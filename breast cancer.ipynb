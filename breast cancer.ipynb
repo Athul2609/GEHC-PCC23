{
 "cells": [
  {
   "cell_type": "code",
   "execution_count": 20,
   "id": "2ac75739",
   "metadata": {},
   "outputs": [],
   "source": [
    "from sklearn.datasets import load_breast_cancer\n",
    "from sklearn.model_selection import train_test_split, GridSearchCV\n",
    "from sklearn.ensemble import RandomForestClassifier\n",
    "from sklearn.metrics import accuracy_score\n",
    "import numpy as np"
   ]
  },
  {
   "cell_type": "code",
   "execution_count": 2,
   "id": "29c26d55",
   "metadata": {},
   "outputs": [],
   "source": [
    "data = load_breast_cancer()"
   ]
  },
  {
   "cell_type": "code",
   "execution_count": 5,
   "id": "6ed97e96",
   "metadata": {},
   "outputs": [
    {
     "data": {
      "text/plain": [
       "dict_keys(['data', 'target', 'frame', 'target_names', 'DESCR', 'feature_names', 'filename', 'data_module'])"
      ]
     },
     "execution_count": 5,
     "metadata": {},
     "output_type": "execute_result"
    }
   ],
   "source": [
    "data.keys()"
   ]
  },
  {
   "cell_type": "code",
   "execution_count": 6,
   "id": "e5d1facb",
   "metadata": {},
   "outputs": [],
   "source": [
    "X_train, X_test, y_train, y_test = train_test_split(data.data, data.target, test_size=0.2, random_state=42)"
   ]
  },
  {
   "cell_type": "code",
   "execution_count": 58,
   "id": "31f59583",
   "metadata": {},
   "outputs": [
    {
     "name": "stdout",
     "output_type": "stream",
     "text": [
      "Best Hyperparameters: {'max_depth': None, 'min_samples_leaf': 1, 'min_samples_split': 2, 'n_estimators': 150}\n",
      "Accuracy of the Best Model: 0.96\n"
     ]
    }
   ],
   "source": [
    "rf_classifier = RandomForestClassifier(random_state=42)\n",
    "param_grid = {\n",
    "    'n_estimators': [50, 100, 150],  \n",
    "    'max_depth': [None, 10, 20, 30], \n",
    "    'min_samples_split': [2, 5, 10], \n",
    "    'min_samples_leaf': [1, 2, 4]   \n",
    "}\n",
    "\n",
    "grid_search = GridSearchCV(estimator=rf_classifier, param_grid=param_grid, cv=5, scoring='accuracy')\n",
    "\n",
    "grid_search.fit(X_train, y_train)\n",
    "\n",
    "best_params = grid_search.best_params_\n",
    "print(\"Best Hyperparameters:\", best_params)\n",
    "\n",
    "best_rf_classifier = grid_search.best_estimator_\n",
    "\n",
    "y_pred = best_rf_classifier.predict(X_test)\n",
    "\n",
    "accuracy = accuracy_score(y_test, y_pred)\n",
    "print(f\"Accuracy of the Best Model: {accuracy:.2f}\")"
   ]
  },
  {
   "cell_type": "code",
   "execution_count": 52,
   "id": "9c27a90a",
   "metadata": {},
   "outputs": [],
   "source": [
    "def traverse_tree(node, X, feature_names,tree,output_file):\n",
    "    if tree.children_left[node] == tree.children_right[node]:\n",
    "        if(tree.value[node][0][1]>tree.value[node][0][0]):\n",
    "            c=\"Tree has come to the conclusion that patient has breast cancer\"\n",
    "        else:\n",
    "            c=\"Tree has come to the conclusion that patient does not have breast cancer \"\n",
    "        output_file.write(f\"Leaf Node {c} \\n\")\n",
    "        return tree.value[node]\n",
    "    \n",
    "    feature_index = tree.feature[node]\n",
    "    threshold = tree.threshold[node]\n",
    "\n",
    "    feature_name = feature_names[feature_index]\n",
    "    feature_value = X[0, feature_index]\n",
    "\n",
    "    output_file.write(f\"Node: We are examining feature '{feature_name}', whose value {feature_value}, which will be compared to the node threshold {threshold}\\n\")\n",
    "    \n",
    "    if feature_value <= threshold:\n",
    "        output_file.write(f\"Going left: as feature '{feature_name}' whose value is {feature_value} is less than or equal to node threshold value, {threshold}\\n\")\n",
    "        return traverse_tree(tree.children_left[node], X, feature_names,tree,output_file)\n",
    "    else:\n",
    "        output_file.write(f\"Going right: as feature '{feature_name}' whose value is {feature_value} is greater than node threshold value, {threshold}\\n\")\n",
    "        return traverse_tree(tree.children_right[node], X, feature_names,tree,output_file)"
   ]
  },
  {
   "cell_type": "code",
   "execution_count": 55,
   "id": "b70ec908",
   "metadata": {},
   "outputs": [],
   "source": [
    "def explain_predict(X_test,best_rf_classifier,output_file,feature_names = ['mean radius',\n",
    " 'mean texture',\n",
    " 'mean perimeter',\n",
    " 'mean area',\n",
    " 'mean smoothness',\n",
    " 'mean compactness',\n",
    " 'mean concavity',\n",
    " 'mean concave points',\n",
    " 'mean symmetry',\n",
    " 'mean fractal dimension',\n",
    " 'radius error',\n",
    " 'texture error',\n",
    " 'perimeter error',\n",
    " 'area error',\n",
    " 'smoothness error',\n",
    " 'compactness error',\n",
    " 'concavity error',\n",
    " 'concave points error',\n",
    " 'symmetry error',\n",
    " 'fractal dimension error',\n",
    " 'worst radius',\n",
    " 'worst texture',\n",
    " 'worst perimeter',\n",
    " 'worst area',\n",
    " 'worst smoothness',\n",
    " 'worst compactness',\n",
    " 'worst concavity',\n",
    " 'worst concave points',\n",
    " 'worst symmetry',\n",
    " 'worst fractal dimension']):\n",
    "        X_pred = []\n",
    "\n",
    "        for i in X_test:\n",
    "            i = i.reshape(1, -1)\n",
    "            preds = np.array([0, 0])\n",
    "            output_file.write(f\"\\nInput: {i}\\n\")\n",
    "            count=1\n",
    "            for j in best_rf_classifier.estimators_:\n",
    "                output_file.write(f\"\\ntree no.{count}\\n\")\n",
    "                prediction = traverse_tree(0, i, feature_names, j.tree_,output_file)\n",
    "                prediction = np.array(prediction)\n",
    "                prediction = prediction.reshape(-1)\n",
    "                prediction = np.argmax(prediction)\n",
    "                preds[prediction] += 1\n",
    "                count+=1\n",
    "            if np.argmax(preds) == 0:\n",
    "                c=f\"\\n{preds[0]} trees came to the conclusion that the patient doesn't have Breast Cancer while only {preds[1]} trees came to the conclusion that the patient has Breast Cancer, so the model has come to the conclusion that the patient doesn't have Breast Cancer\\n\"\n",
    "            else:\n",
    "                c=f\"\\n{preds[1]} trees came to the conclusion that the patient has Breast Cancer while only {preds[0]} trees came to the conclusion that the patient doesn't have Breast Cancer, so the model has come to the conclusion that the patient has Breast Cancer\\n\"\n",
    "            output_file.write(c)\n",
    "            X_pred.append(np.argmax(preds))\n",
    "\n",
    "        accuracy = accuracy_score(y_test, X_pred)\n",
    "        print(f\"Accuracy of the Best Model: {accuracy:.2f}\")"
   ]
  },
  {
   "cell_type": "code",
   "execution_count": 56,
   "id": "8277c262",
   "metadata": {},
   "outputs": [
    {
     "name": "stdout",
     "output_type": "stream",
     "text": [
      "Accuracy of the Best Model: 0.96\n"
     ]
    }
   ],
   "source": [
    "with open(\"output.txt\", \"w\") as output_file:\n",
    "    explain_predict(X_test,best_rf_classifier,output_file)"
   ]
  }
 ],
 "metadata": {
  "kernelspec": {
   "display_name": "Python 3 (ipykernel)",
   "language": "python",
   "name": "python3"
  },
  "language_info": {
   "codemirror_mode": {
    "name": "ipython",
    "version": 3
   },
   "file_extension": ".py",
   "mimetype": "text/x-python",
   "name": "python",
   "nbconvert_exporter": "python",
   "pygments_lexer": "ipython3",
   "version": "3.9.17"
  }
 },
 "nbformat": 4,
 "nbformat_minor": 5
}
